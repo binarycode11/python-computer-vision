{
 "cells": [
  {
   "cell_type": "code",
   "execution_count": 47,
   "metadata": {},
   "outputs": [
    {
     "name": "stdout",
     "output_type": "stream",
     "text": [
      "{'thread': ((111, 41, 96, 33), None), 'batery': ((88, 27, 126, 59), 'thread'), 'charger': ((217, 121, 44, 40), None), 'next_battery': ((229, 36, 27, 52), None), 'key_chain': ((54, 98, 29, 37), None), 'weapon': ((59, 137, 143, 53), None)}\n"
     ]
    }
   ],
   "source": [
    "rois={    \n",
    "    'thread':((111, 41, 96, 33),None),\n",
    "    'batery':((88, 27, 126, 59),'thread'),\n",
    "    'charger':((217, 121, 44, 40),None),\n",
    "    'next_battery':((229, 36, 27, 52),None),\n",
    "    'key_chain':((54, 98, 29, 37),None),\n",
    "    'weapon':((59, 137, 143, 53),None)\n",
    "    }\n",
    "print(rois)"
   ]
  },
  {
   "cell_type": "code",
   "execution_count": 79,
   "metadata": {},
   "outputs": [],
   "source": [
    "def extract_img_roi(im,roi):\n",
    "    # Crop image\n",
    "    imCrop = im[int(roi[1]):int(roi[1]+roi[3]), int(roi[0]):int(roi[0]+roi[2])]\n",
    "    return imCrop\n",
    "\n",
    "def extract_img_roi_two_levels(im,roi_int,roi_ext):\n",
    "    # Crop image\n",
    "    im[int(roi_int[1]):int(roi_int[1]+roi_int[3]), int(roi_int[0]):int(roi_int[0]+roi_int[2])]=[50,50,50]\n",
    "    imCrop = im[int(roi_ext[1]):int(roi_ext[1]+roi_ext[3]), int(roi_ext[0]):int(roi_ext[0]+roi_ext[2])]\n",
    "    return imCrop"
   ]
  },
  {
   "cell_type": "code",
   "execution_count": 80,
   "metadata": {},
   "outputs": [],
   "source": [
    "def diff_images(original,duplicate):\n",
    "    if original.shape == duplicate.shape:\n",
    "        print(\"The images have same size and channels\")\n",
    "    difference = cv2.subtract(original, duplicate)\n",
    "    b, g, r = cv2.split(difference)\n",
    "    print(cv2.countNonZero(b),cv2.countNonZero(g),cv2.countNonZero(r))\n",
    "    if cv2.countNonZero(b) == 0 and cv2.countNonZero(g) == 0 and cv2.countNonZero(r) == 0:\n",
    "        print(\"The images are completely Equal\")"
   ]
  },
  {
   "cell_type": "code",
   "execution_count": 81,
   "metadata": {},
   "outputs": [],
   "source": [
    "# import the necessary packages\n",
    "from skimage.measure import compare_ssim\n",
    "def diff_images2(original,duplicate):\n",
    "    gray = cv2.cvtColor(original, cv2.COLOR_BGR2GRAY)\n",
    "    gray2 = cv2.cvtColor(duplicate, cv2.COLOR_BGR2GRAY)\n",
    "    (score, diff) = compare_ssim(gray, gray2, full=True)\n",
    "    diff = (diff * 255).astype(\"uint8\")\n",
    "    print(\"SSIM: {} Piece found {}\".format(score,score<0.6))\n",
    "   \n",
    "        "
   ]
  },
  {
   "cell_type": "code",
   "execution_count": 83,
   "metadata": {},
   "outputs": [
    {
     "name": "stdout",
     "output_type": "stream",
     "text": [
      "thread\n",
      "SSIM: 0.3945872177466946 Piece found True\n"
     ]
    },
    {
     "name": "stderr",
     "output_type": "stream",
     "text": [
      "/home/wagner/desenvolvimento/python-computer-vision/env/lib/python3.7/site-packages/ipykernel_launcher.py:6: UserWarning: DEPRECATED: skimage.measure.compare_ssim has been moved to skimage.metrics.structural_similarity. It will be removed from skimage.measure in version 0.18.\n",
      "  \n"
     ]
    },
    {
     "name": "stdout",
     "output_type": "stream",
     "text": [
      "batery\n",
      "SSIM: 0.45241738880027016 Piece found True\n",
      "charger\n",
      "SSIM: 0.14604442979280766 Piece found True\n",
      "next_battery\n",
      "SSIM: 0.03429807948306808 Piece found True\n",
      "key_chain\n",
      "SSIM: 0.30434419004937174 Piece found True\n",
      "weapon\n",
      "SSIM: 0.16193521124843321 Piece found True\n"
     ]
    }
   ],
   "source": [
    "import cv2\n",
    "import numpy as np\n",
    "im = cv2.imread(\"./tray_2.png\")\n",
    "im2 = cv2.imread(\"./tray_11.png\")\n",
    "for key in rois:\n",
    "    print(key)\n",
    "    if rois[key][1] is None:\n",
    "        base_img=extract_img_roi(im,rois[key][0])\n",
    "        new_img=extract_img_roi(im2,rois[key][0])\n",
    "    else:\n",
    "        key_int=rois[key][1]\n",
    "        base_img=extract_img_roi_two_levels(im,rois[key_int][0],rois[key][0])\n",
    "        new_img=extract_img_roi_two_levels(im2,rois[key_int][0],rois[key][0])\n",
    "    \n",
    "    #diff_images(base_img,new_img)\n",
    "    diff_images2(base_img,new_img)\n",
    "    # Display cropped image\n",
    "    cv2.imshow('base_'+key, base_img)\n",
    "    # Display cropped image\n",
    "    cv2.imshow(key, new_img)\n",
    "    cv2.waitKey(0)\n",
    "cv2.destroyAllWindows()"
   ]
  },
  {
   "cell_type": "code",
   "execution_count": null,
   "metadata": {},
   "outputs": [],
   "source": []
  },
  {
   "cell_type": "code",
   "execution_count": null,
   "metadata": {},
   "outputs": [],
   "source": []
  }
 ],
 "metadata": {
  "kernelspec": {
   "display_name": "Python 3",
   "language": "python",
   "name": "python3"
  },
  "language_info": {
   "codemirror_mode": {
    "name": "ipython",
    "version": 3
   },
   "file_extension": ".py",
   "mimetype": "text/x-python",
   "name": "python",
   "nbconvert_exporter": "python",
   "pygments_lexer": "ipython3",
   "version": "3.7.3"
  }
 },
 "nbformat": 4,
 "nbformat_minor": 2
}
