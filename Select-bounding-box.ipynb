{
 "cells": [
  {
   "cell_type": "code",
   "execution_count": null,
   "metadata": {},
   "outputs": [
    {
     "name": "stdout",
     "output_type": "stream",
     "text": [
      "[[[221 224 222]\n",
      "  [221 224 222]\n",
      "  [222 225 223]\n",
      "  ...\n",
      "  [223 224 219]\n",
      "  [223 224 219]\n",
      "  [223 224 219]]\n",
      "\n",
      " [[221 224 222]\n",
      "  [221 224 222]\n",
      "  [222 225 223]\n",
      "  ...\n",
      "  [223 224 219]\n",
      "  [223 224 219]\n",
      "  [223 224 219]]\n",
      "\n",
      " [[221 224 222]\n",
      "  [221 224 222]\n",
      "  [222 225 223]\n",
      "  ...\n",
      "  [224 225 220]\n",
      "  [224 225 220]\n",
      "  [224 225 220]]\n",
      "\n",
      " ...\n",
      "\n",
      " [[196 205 199]\n",
      "  [196 206 199]\n",
      "  [182 194 186]\n",
      "  ...\n",
      "  [236 236 234]\n",
      "  [235 235 233]\n",
      "  [235 235 233]]\n",
      "\n",
      " [[200 201 201]\n",
      "  [200 203 203]\n",
      "  [197 203 198]\n",
      "  ...\n",
      "  [236 236 234]\n",
      "  [235 235 233]\n",
      "  [235 235 233]]\n",
      "\n",
      " [[202 202 202]\n",
      "  [202 203 203]\n",
      "  [200 203 201]\n",
      "  ...\n",
      "  [236 236 234]\n",
      "  [235 235 233]\n",
      "  [235 235 233]]]\n"
     ]
    }
   ],
   "source": [
    "import cv2\n",
    "import numpy as np\n",
    " \n",
    "if __name__ == '__main__' :\n",
    " \n",
    "    # Read image\n",
    "    im = cv2.imread(\"./data/2.png\")\n",
    "    print(im) \n",
    "    # Select ROI\n",
    "    r = cv2.selectROI(im)\n",
    "    #print(r)\n",
    "    # Crop image\n",
    "    imCrop = im[int(r[1]):int(r[1]+r[3]), int(r[0]):int(r[0]+r[2])]\n",
    " \n",
    "    # Display cropped image\n",
    "    cv2.imshow(\"Image\", imCrop)\n",
    "    cv2.waitKey(0)"
   ]
  },
  {
   "cell_type": "code",
   "execution_count": null,
   "metadata": {},
   "outputs": [],
   "source": []
  }
 ],
 "metadata": {
  "kernelspec": {
   "display_name": "Python 3",
   "language": "python",
   "name": "python3"
  },
  "language_info": {
   "codemirror_mode": {
    "name": "ipython",
    "version": 3
   },
   "file_extension": ".py",
   "mimetype": "text/x-python",
   "name": "python",
   "nbconvert_exporter": "python",
   "pygments_lexer": "ipython3",
   "version": "3.6.7"
  }
 },
 "nbformat": 4,
 "nbformat_minor": 2
}
