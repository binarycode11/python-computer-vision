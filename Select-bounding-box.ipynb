{
 "cells": [
  {
   "cell_type": "code",
   "execution_count": 13,
   "metadata": {},
   "outputs": [
    {
     "name": "stdout",
     "output_type": "stream",
     "text": [
      "(229, 36, 27, 52)\n",
      "<class 'tuple'>\n"
     ]
    }
   ],
   "source": [
    "import cv2\n",
    "import numpy as np\n",
    " \n",
    "if __name__ == '__main__' :\n",
    " \n",
    "    # Read image\n",
    "    im = cv2.imread(\"./data/tray_2.png\")\n",
    "    # Select ROI\n",
    "    r = cv2.selectROI(im)\n",
    "    print(r)\n",
    "    print(type(r))\n",
    "    # Crop image\n",
    "    imCrop = im[int(r[1]):int(r[1]+r[3]), int(r[0]):int(r[0]+r[2])]\n",
    " \n",
    "    # Display cropped image\n",
    "    cv2.imshow(\"Image\", imCrop)\n",
    "    cv2.waitKey(0)\n",
    "    cv2.destroyAllWindows()"
   ]
  },
  {
   "cell_type": "raw",
   "metadata": {},
   "source": [
    "#tomada carregador\n",
    "(217, 121, 44, 40)\n",
    "#fio\n",
    "(111, 41, 96, 33)\n",
    "#detect batery\n",
    "(88, 27, 126, 59)\n",
    "\n",
    "#Peca ao lado da bateria\n",
    "(229, 36, 27, 52)\n",
    "\n",
    "#chaveiro\n",
    "(54, 98, 29, 37)\n",
    "\n",
    "#Arma\n",
    "(59, 137, 143, 53)"
   ]
  }
 ],
 "metadata": {
  "kernelspec": {
   "display_name": "Python 3",
   "language": "python",
   "name": "python3"
  },
  "language_info": {
   "codemirror_mode": {
    "name": "ipython",
    "version": 3
   },
   "file_extension": ".py",
   "mimetype": "text/x-python",
   "name": "python",
   "nbconvert_exporter": "python",
   "pygments_lexer": "ipython3",
   "version": "3.7.3"
  }
 },
 "nbformat": 4,
 "nbformat_minor": 2
}
