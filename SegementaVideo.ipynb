{
 "cells": [
  {
   "cell_type": "code",
   "execution_count": null,
   "metadata": {},
   "outputs": [],
   "source": [
    "import numpy as np\n",
    "import cv2\n",
    "import os\n",
    "from datetime import datetime\n",
    "import time\n",
    "\n",
    "pasta_proj = os.path.abspath('.{}'.format(os.sep))\n",
    "nome_arquivo = \"{}data{}bandeja.mp4\".format(pasta_proj, os.sep, os.sep)\n",
    "\n",
    "porcent = 50\n",
    "\n",
    "def define_dimensao(porcent, frame):\n",
    "\n",
    "    height, width, depth = last_frame.shape\n",
    "    imgScale = (porcent*10.)/width\n",
    "    newX, newY = last_frame.shape[1]*imgScale, last_frame.shape[0]*imgScale\n",
    "    return newX, newY\n",
    "\n",
    "def juntar_imagens(img1, img2):\n",
    "    new_img = np.hstack((img1, img2))\n",
    "    return new_img\n",
    "\n",
    "def normaliza_borra(frame):\n",
    "    gray = cv2.cvtColor(frame, cv2.COLOR_BGR2GRAY)\n",
    "    gray = cv2.GaussianBlur(gray, (21, 21), 0)\n",
    "    return gray\n",
    "\n",
    "\n",
    "\n"
   ]
  },
  {
   "cell_type": "code",
   "execution_count": null,
   "metadata": {},
   "outputs": [],
   "source": [
    "num_frames_std=0\n",
    "last_status=None\n",
    "last_move=0\n",
    "current_frame=last_move\n",
    "print(nome_arquivo, os.path.isfile(nome_arquivo))\n",
    "print('.{}data{}{}{}'.format(os.sep,os.sep,1,'.png'))"
   ]
  },
  {
   "cell_type": "code",
   "execution_count": null,
   "metadata": {},
   "outputs": [],
   "source": [
    "if os.path.isfile(nome_arquivo):\n",
    "    cap = cv2.VideoCapture(nome_arquivo)\n",
    "\n",
    "    ret, last_frame = cap.read()\n",
    "    print('isOpened ',cap.isOpened())\n",
    "    if last_frame is None:\n",
    "        print('last_frame ',last_frame)\n",
    "        exit()\n",
    "\n",
    "    newX, newY = define_dimensao(porcent, last_frame)\n",
    "    last_frame = cv2.resize(last_frame, (int(newX), int(newY)))\n",
    "    last_frame_norm = normaliza_borra(last_frame)\n",
    "\n",
    "    frame_parados = 0\n",
    "    status_motion = \"STOP\"\n",
    "    print('video ',cap.isOpened())\n",
    "    while(cap.isOpened()):\n",
    "        ret, frame = cap.read()\n",
    "\n",
    "        if frame is None:\n",
    "            break\n",
    "        current_frame=current_frame+1\n",
    "        frame = cv2.resize(frame, (int(newX), int(newY)))\n",
    "        newFrame = normaliza_borra(frame)\n",
    "\n",
    "        a = cv2.absdiff(last_frame_norm, newFrame)        \n",
    "            \n",
    "        media_de_cor = a.mean()\n",
    "        if media_de_cor < 0.5:\n",
    "            status_motion = \"STOP\"            \n",
    "        else:\n",
    "            status_motion = \"MOTION\"\n",
    "            \n",
    "        if(last_status!=status_motion):\n",
    "            if((current_frame-last_move)>10):\n",
    "                print(current_frame,last_move,(current_frame-last_move))\n",
    "                num_frames_std= num_frames_std+1\n",
    "                cv2.imwrite('.{}data{}{}{}'.format(os.sep,os.sep,num_frames_std,'.png'),frame)\n",
    "            last_status= status_motion\n",
    "            last_move=current_frame\n",
    "            \n",
    "            \n",
    "        print(\"current_frame\",current_frame,\" status_motion \",status_motion)    \n",
    "\n",
    "\n",
    "        cv2.putText(frame, \"Room Status: {}; Number frames stopped: {}\".format(status_motion,num_frames_std), (10, 20),cv2.FONT_HERSHEY_SIMPLEX, 0.5, (0, 255, 0), 2)\n",
    "        cv2.putText(frame, datetime.now().strftime(\"%A %d %B %Y %I:%M:%S%p\"),(10, frame.shape[0] - 10), cv2.FONT_HERSHEY_SIMPLEX, 0.35, (0, 255, 0), 1)\n",
    "\n",
    "        motion_detection = juntar_imagens(newFrame, a)\n",
    "        cv2.imshow('original', frame)\n",
    "        cv2.imshow('motion detection', motion_detection)\n",
    "\n",
    "        if cv2.waitKey(33) >= 0:\n",
    "            break\n",
    "\n",
    "        last_frame_norm = newFrame\n",
    "\n",
    "    cap.release()\n",
    "    cv2.destroyAllWindows()\n",
    "else:\n",
    "    print(\"video não existe\")"
   ]
  },
  {
   "cell_type": "code",
   "execution_count": null,
   "metadata": {},
   "outputs": [],
   "source": [
    "import time\n",
    "a=time.time()\n",
    "time.sleep(2.4)\n",
    "b=time.time()\n",
    "b-a"
   ]
  },
  {
   "cell_type": "code",
   "execution_count": null,
   "metadata": {},
   "outputs": [],
   "source": [
    "print(dir(datetime))"
   ]
  },
  {
   "cell_type": "code",
   "execution_count": null,
   "metadata": {},
   "outputs": [],
   "source": []
  }
 ],
 "metadata": {
  "kernelspec": {
   "display_name": "Python 3",
   "language": "python",
   "name": "python3"
  },
  "language_info": {
   "codemirror_mode": {
    "name": "ipython",
    "version": 3
   },
   "file_extension": ".py",
   "mimetype": "text/x-python",
   "name": "python",
   "nbconvert_exporter": "python",
   "pygments_lexer": "ipython3",
   "version": "3.6.7"
  }
 },
 "nbformat": 4,
 "nbformat_minor": 2
}
