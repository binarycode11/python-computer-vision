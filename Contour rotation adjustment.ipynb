{
 "cells": [
  {
   "cell_type": "code",
   "execution_count": 8,
   "metadata": {},
   "outputs": [],
   "source": [
    "import cv2\n",
    "import numpy as np\n",
    "\n",
    "def crop_minAreaRect(img, rect):\n",
    "\n",
    "    # rotate img\n",
    "    angle = rect[2]\n",
    "    rows,cols = img.shape[0], img.shape[1]\n",
    "    M = cv2.getRotationMatrix2D((cols/2,rows/2),angle,1)\n",
    "    img_rot = cv2.warpAffine(img,M,(cols,rows))\n",
    "\n",
    "    # rotate bounding box\n",
    "    #rect0 = (rect[0], rect[1], angle) \n",
    "    box = cv2.boxPoints(rect)\n",
    "    \n",
    "   \n",
    "    pts = np.int0(cv2.transform(np.array([box]), M))[0]    \n",
    "    pts[pts < 0] = 0\n",
    "\n",
    "    # crop\n",
    "    img_crop = img_rot[pts[1][1]:pts[0][1], \n",
    "                       pts[1][0]:pts[2][0]]\n",
    "    \n",
    "    #box = np.int0(box)\n",
    "    #cv2.drawContours(img_rot, [pts], 0, (255,0,255), 2)\n",
    "    \n",
    "    return img_crop"
   ]
  },
  {
   "cell_type": "code",
   "execution_count": 9,
   "metadata": {},
   "outputs": [
    {
     "data": {
      "image/png": "[encoded data removed]",
      "text/plain": [
       "<Figure size 288x288 with 1 Axes>"
      ]
     },
     "metadata": {
      "needs_background": "light"
     },
     "output_type": "display_data"
    },
    {
     "data": {
      "image/png": "[encoded data removed]",
      "text/plain": [
       "<Figure size 288x288 with 1 Axes>"
      ]
     },
     "metadata": {
      "needs_background": "light"
     },
     "output_type": "display_data"
    },
    {
     "data": {
      "image/png": "[encoded data removed]",
      "text/plain": [
       "<Figure size 288x288 with 1 Axes>"
      ]
     },
     "metadata": {
      "needs_background": "light"
     },
     "output_type": "display_data"
    }
   ],
   "source": [
    "# generate image\n",
    "img = np.zeros((1000,1000,3), np.uint8)\n",
    "black=img.copy()\n",
    "img = cv2.line(img,(400,400),(511,511),(0,255,0),80)\n",
    "img = cv2.line(img,(300,300),(700,500),(0,255,0),80)\n",
    "\n",
    "\n",
    "img_gray = cv2.cvtColor(img, cv2.COLOR_BGR2GRAY)\n",
    "# find contours / rectangle\n",
    "_,contours,_ = cv2.findContours(img_gray, cv2.RETR_EXTERNAL, cv2.CHAIN_APPROX_NONE)\n",
    "rect = cv2.minAreaRect(contours[0])\n",
    "\n",
    "# crop\n",
    "img_croped = crop_minAreaRect(img, rect)\n",
    "cv2.drawContours(black, contours[0], -3, (255,0,255), 3)\n",
    "\n",
    "box = cv2.boxPoints(rect)\n",
    "box = np.int0(box)\n",
    "cv2.drawContours(img, [box], 0, (0,0,255),10)\n",
    "    \n",
    "# show\n",
    "import matplotlib.pylab as plt\n",
    "plt.figure(figsize=(4,4))\n",
    "#plt.subplot(1,3,1)\n",
    "plt.imshow(img)\n",
    "#plt.subplot(1,3,2)\n",
    "plt.figure(figsize=(4,4))\n",
    "plt.imshow(black)\n",
    "plt.figure(figsize=(4,4))\n",
    "plt.imshow(img_croped)\n",
    "plt.show()"
   ]
  },
  {
   "cell_type": "code",
   "execution_count": null,
   "metadata": {},
   "outputs": [],
   "source": []
  }
 ],
 "metadata": {
  "kernelspec": {
   "display_name": "Python 3",
   "language": "python",
   "name": "python3"
  },
  "language_info": {
   "codemirror_mode": {
    "name": "ipython",
    "version": 3
   },
   "file_extension": ".py",
   "mimetype": "text/x-python",
   "name": "python",
   "nbconvert_exporter": "python",
   "pygments_lexer": "ipython3",
   "version": "3.6.7"
  }
 },
 "nbformat": 4,
 "nbformat_minor": 2
}
